{
 "cells": [
  {
   "cell_type": "code",
   "execution_count": 8,
   "id": "5b36567b",
   "metadata": {},
   "outputs": [
    {
     "name": "stdout",
     "output_type": "stream",
     "text": [
      "1. Overall Gross Margin: 1207.1999999999998\n",
      "2. Most Profitable Vendor: Vendor7\n",
      "3. Least Profitable Customer: Customer9\n",
      "4. Most Profitable Day of the Week: Monday\n",
      "5. Least Profitable Day of the Week: Thursday\n"
     ]
    },
    {
     "data": {
      "text/plain": [
       "'Overall Gross Margin: 1207.1999999999998\\n2. Most Profitable Vendor: Vendor7\\n3. Least Profitable Customer: Customer9\\n4. Most Profitable Day of the Week: Monday\\n5. Least Profitable Day of the Week: Thursday'"
      ]
     },
     "execution_count": 8,
     "metadata": {},
     "output_type": "execute_result"
    }
   ],
   "source": [
    "import pandas as pd\n",
    "import warnings\n",
    "\n",
    "df = pd.read_csv(\"sales_data_1.csv\")\n",
    "\n",
    "warnings.filterwarnings(\"ignore\")\n",
    "\n",
    "overall_gross_margin = (df[\"Selling price\"] - df[\"Buying price\"]).sum()\n",
    "\n",
    "vendor_profit = df.groupby(\"Firm bought from\")[\"Selling price\"].sum() - df.groupby(\"Firm bought from\")[\"Buying price\"].sum()\n",
    "most_profitable_vendor = vendor_profit.idxmax()\n",
    "\n",
    "customer_profit = df.groupby(\"Customer\")[\"Selling price\"].sum() - df.groupby(\"Customer\")[\"Buying price\"].sum()\n",
    "least_profitable_customer = customer_profit.idxmin()\n",
    "\n",
    "df[\"Date\"] = pd.to_datetime(df[\"Date\"])\n",
    "df[\"Day of Week\"] = df[\"Date\"].dt.day_name()\n",
    "day_profit = df.groupby(\"Day of Week\")[\"Selling price\"].sum() - df.groupby(\"Day of Week\")[\"Buying price\"].sum()\n",
    "most_profitable_day = day_profit.idxmax()\n",
    "least_profitable_day = day_profit.idxmin()\n",
    "print(\"1. Overall Gross Margin:\", overall_gross_margin)\n",
    "print(\"2. Most Profitable Vendor:\", most_profitable_vendor)\n",
    "print(\"3. Least Profitable Customer:\", least_profitable_customer)\n",
    "print(\"4. Most Profitable Day of the Week:\", most_profitable_day)\n",
    "print(\"5. Least Profitable Day of the Week:\", least_profitable_day)\n",
    "\n",
    "'''Overall Gross Margin: 1207.1999999999998\n",
    "2. Most Profitable Vendor: Vendor7\n",
    "3. Least Profitable Customer: Customer9\n",
    "4. Most Profitable Day of the Week: Monday\n",
    "5. Least Profitable Day of the Week: Thursday'''"
   ]
  },
  {
   "cell_type": "code",
   "execution_count": null,
   "id": "4b50377e",
   "metadata": {},
   "outputs": [],
   "source": []
  }
 ],
 "metadata": {
  "kernelspec": {
   "display_name": "Python 3 (ipykernel)",
   "language": "python",
   "name": "python3"
  },
  "language_info": {
   "codemirror_mode": {
    "name": "ipython",
    "version": 3
   },
   "file_extension": ".py",
   "mimetype": "text/x-python",
   "name": "python",
   "nbconvert_exporter": "python",
   "pygments_lexer": "ipython3",
   "version": "3.11.3"
  }
 },
 "nbformat": 4,
 "nbformat_minor": 5
}
